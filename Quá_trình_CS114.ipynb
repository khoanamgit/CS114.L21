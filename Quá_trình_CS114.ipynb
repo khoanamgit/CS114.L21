{
  "nbformat": 4,
  "nbformat_minor": 0,
  "metadata": {
    "colab": {
      "name": "Quá trình CS114.ipynb",
      "provenance": [],
      "authorship_tag": "ABX9TyMeCU2c/5Ezw/us/8Hnp12C",
      "include_colab_link": true
    },
    "kernelspec": {
      "name": "python3",
      "display_name": "Python 3"
    },
    "language_info": {
      "name": "python"
    }
  },
  "cells": [
    {
      "cell_type": "markdown",
      "metadata": {
        "id": "view-in-github",
        "colab_type": "text"
      },
      "source": [
        "<a href=\"https://colab.research.google.com/github/khoanamgit/CS114.L21/blob/main/Qu%C3%A1_tr%C3%ACnh_CS114.ipynb\" target=\"_parent\"><img src=\"https://colab.research.google.com/assets/colab-badge.svg\" alt=\"Open In Colab\"/></a>"
      ]
    },
    {
      "cell_type": "markdown",
      "metadata": {
        "id": "tgJ3LZ3LDmeR"
      },
      "source": [
        "BÀI TẬP QUÁ TRÌNH\n",
        "\n",
        "LỚP CS114.L22.KHCL\n",
        "\n",
        "\n",
        "THÀNH VIÊN\n",
        "1. Từ Trương Tuấn Kiệt\n",
        "2. Phạm Trung Hiếu\n",
        "3. Võ Khoa Nam\n",
        "\n",
        "\n",
        "CÁC VÍ DỤ\n",
        "\n",
        "1. Dự đoán số doanh thu bán hàng của căn tin UIT\n",
        "\n",
        "*   Input: Tên món hàng(string), số lượng (int), giá món hàng (int)\n",
        "*   Output: Doanh thu bán hàng của căn tin (int)\n",
        "*   Thu thập dữ liệu:\n",
        "      \n",
        "      . Thu thập các hoá đơn bán hàng của căn tin\n",
        "\n",
        "*   Xử lý data:\n",
        "\n",
        "      . Gom các dữ liệu vào trong cùng một file .csv\n",
        "\n",
        "      . Xử lý các dữ liệu lỗi (dữ liệu số âm, các dữ liệu không có giá trị)\n",
        "\n",
        "\n",
        "2. Dự đoán sinh viên có qua môn Machine Learning hay không\n",
        "\n",
        "*   Input: Số sinh viên học Machine Learning(int), Điểm số của tất cả sinh viên (int) \n",
        "*   Output: Một con số (1 là qua, 0 là không qua)\n",
        "\n",
        "*   Thu thập dữ liệu:\n",
        "    \n",
        "    . Danh sách các lớp Machine Learning\n",
        "\n",
        "    . Điểm của các sinh viên\n",
        "*   Xử lý data:\n",
        "\n",
        "    . Gom dữ liệu vào một file .csv\n",
        "    \n",
        "    . Xử lý dữ liệu lỗi\n",
        "\n",
        "\n",
        "\n",
        "\n",
        "\n",
        "\n",
        "\n",
        "\n",
        "\n"
      ]
    },
    {
      "cell_type": "markdown",
      "metadata": {
        "id": "MAHGnH6qDYXw"
      },
      "source": [
        ""
      ]
    }
  ]
}